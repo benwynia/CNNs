{
  "nbformat": 4,
  "nbformat_minor": 0,
  "metadata": {
    "colab": {
      "provenance": [],
      "authorship_tag": "ABX9TyOB2esL62Ci6ZfGBtkC8/j9",
      "include_colab_link": true
    },
    "kernelspec": {
      "name": "python3",
      "display_name": "Python 3"
    },
    "language_info": {
      "name": "python"
    },
    "widgets": {
      "application/vnd.jupyter.widget-state+json": {
        "0f3b869e1cc741a79e7a8b3dbc7bda1f": {
          "model_module": "@jupyter-widgets/controls",
          "model_name": "HBoxModel",
          "model_module_version": "1.5.0",
          "state": {
            "_dom_classes": [],
            "_model_module": "@jupyter-widgets/controls",
            "_model_module_version": "1.5.0",
            "_model_name": "HBoxModel",
            "_view_count": null,
            "_view_module": "@jupyter-widgets/controls",
            "_view_module_version": "1.5.0",
            "_view_name": "HBoxView",
            "box_style": "",
            "children": [
              "IPY_MODEL_b9396eca7c2246a987835abf91cca2e7",
              "IPY_MODEL_ecbb08c081d44a048c8027344f32d45f",
              "IPY_MODEL_47578214a9f54928ba2fc84eea69d904"
            ],
            "layout": "IPY_MODEL_fb63d1c94128476c8c57727c9ab59d60"
          }
        },
        "b9396eca7c2246a987835abf91cca2e7": {
          "model_module": "@jupyter-widgets/controls",
          "model_name": "HTMLModel",
          "model_module_version": "1.5.0",
          "state": {
            "_dom_classes": [],
            "_model_module": "@jupyter-widgets/controls",
            "_model_module_version": "1.5.0",
            "_model_name": "HTMLModel",
            "_view_count": null,
            "_view_module": "@jupyter-widgets/controls",
            "_view_module_version": "1.5.0",
            "_view_name": "HTMLView",
            "description": "",
            "description_tooltip": null,
            "layout": "IPY_MODEL_4d7bdf57e2644c8aa4b3338069477e89",
            "placeholder": "​",
            "style": "IPY_MODEL_a7f2be0b95f7433da193f39101aebc58",
            "value": "Epoch 19: 100%"
          }
        },
        "ecbb08c081d44a048c8027344f32d45f": {
          "model_module": "@jupyter-widgets/controls",
          "model_name": "FloatProgressModel",
          "model_module_version": "1.5.0",
          "state": {
            "_dom_classes": [],
            "_model_module": "@jupyter-widgets/controls",
            "_model_module_version": "1.5.0",
            "_model_name": "FloatProgressModel",
            "_view_count": null,
            "_view_module": "@jupyter-widgets/controls",
            "_view_module_version": "1.5.0",
            "_view_name": "ProgressView",
            "bar_style": "success",
            "description": "",
            "description_tooltip": null,
            "layout": "IPY_MODEL_960165752caa4f90b369ddfc03285b94",
            "max": 1719,
            "min": 0,
            "orientation": "horizontal",
            "style": "IPY_MODEL_a53b2ec3ff4845dbafd2d3fd3dcf2e54",
            "value": 1719
          }
        },
        "47578214a9f54928ba2fc84eea69d904": {
          "model_module": "@jupyter-widgets/controls",
          "model_name": "HTMLModel",
          "model_module_version": "1.5.0",
          "state": {
            "_dom_classes": [],
            "_model_module": "@jupyter-widgets/controls",
            "_model_module_version": "1.5.0",
            "_model_name": "HTMLModel",
            "_view_count": null,
            "_view_module": "@jupyter-widgets/controls",
            "_view_module_version": "1.5.0",
            "_view_name": "HTMLView",
            "description": "",
            "description_tooltip": null,
            "layout": "IPY_MODEL_1e0d90845bba460880881d4bfba6005e",
            "placeholder": "​",
            "style": "IPY_MODEL_3407eb64750947fb8f06468d5b6c05a0",
            "value": " 1719/1719 [02:38&lt;00:00, 10.88it/s, v_num=3]"
          }
        },
        "fb63d1c94128476c8c57727c9ab59d60": {
          "model_module": "@jupyter-widgets/base",
          "model_name": "LayoutModel",
          "model_module_version": "1.2.0",
          "state": {
            "_model_module": "@jupyter-widgets/base",
            "_model_module_version": "1.2.0",
            "_model_name": "LayoutModel",
            "_view_count": null,
            "_view_module": "@jupyter-widgets/base",
            "_view_module_version": "1.2.0",
            "_view_name": "LayoutView",
            "align_content": null,
            "align_items": null,
            "align_self": null,
            "border": null,
            "bottom": null,
            "display": "inline-flex",
            "flex": null,
            "flex_flow": "row wrap",
            "grid_area": null,
            "grid_auto_columns": null,
            "grid_auto_flow": null,
            "grid_auto_rows": null,
            "grid_column": null,
            "grid_gap": null,
            "grid_row": null,
            "grid_template_areas": null,
            "grid_template_columns": null,
            "grid_template_rows": null,
            "height": null,
            "justify_content": null,
            "justify_items": null,
            "left": null,
            "margin": null,
            "max_height": null,
            "max_width": null,
            "min_height": null,
            "min_width": null,
            "object_fit": null,
            "object_position": null,
            "order": null,
            "overflow": null,
            "overflow_x": null,
            "overflow_y": null,
            "padding": null,
            "right": null,
            "top": null,
            "visibility": null,
            "width": "100%"
          }
        },
        "4d7bdf57e2644c8aa4b3338069477e89": {
          "model_module": "@jupyter-widgets/base",
          "model_name": "LayoutModel",
          "model_module_version": "1.2.0",
          "state": {
            "_model_module": "@jupyter-widgets/base",
            "_model_module_version": "1.2.0",
            "_model_name": "LayoutModel",
            "_view_count": null,
            "_view_module": "@jupyter-widgets/base",
            "_view_module_version": "1.2.0",
            "_view_name": "LayoutView",
            "align_content": null,
            "align_items": null,
            "align_self": null,
            "border": null,
            "bottom": null,
            "display": null,
            "flex": null,
            "flex_flow": null,
            "grid_area": null,
            "grid_auto_columns": null,
            "grid_auto_flow": null,
            "grid_auto_rows": null,
            "grid_column": null,
            "grid_gap": null,
            "grid_row": null,
            "grid_template_areas": null,
            "grid_template_columns": null,
            "grid_template_rows": null,
            "height": null,
            "justify_content": null,
            "justify_items": null,
            "left": null,
            "margin": null,
            "max_height": null,
            "max_width": null,
            "min_height": null,
            "min_width": null,
            "object_fit": null,
            "object_position": null,
            "order": null,
            "overflow": null,
            "overflow_x": null,
            "overflow_y": null,
            "padding": null,
            "right": null,
            "top": null,
            "visibility": null,
            "width": null
          }
        },
        "a7f2be0b95f7433da193f39101aebc58": {
          "model_module": "@jupyter-widgets/controls",
          "model_name": "DescriptionStyleModel",
          "model_module_version": "1.5.0",
          "state": {
            "_model_module": "@jupyter-widgets/controls",
            "_model_module_version": "1.5.0",
            "_model_name": "DescriptionStyleModel",
            "_view_count": null,
            "_view_module": "@jupyter-widgets/base",
            "_view_module_version": "1.2.0",
            "_view_name": "StyleView",
            "description_width": ""
          }
        },
        "960165752caa4f90b369ddfc03285b94": {
          "model_module": "@jupyter-widgets/base",
          "model_name": "LayoutModel",
          "model_module_version": "1.2.0",
          "state": {
            "_model_module": "@jupyter-widgets/base",
            "_model_module_version": "1.2.0",
            "_model_name": "LayoutModel",
            "_view_count": null,
            "_view_module": "@jupyter-widgets/base",
            "_view_module_version": "1.2.0",
            "_view_name": "LayoutView",
            "align_content": null,
            "align_items": null,
            "align_self": null,
            "border": null,
            "bottom": null,
            "display": null,
            "flex": "2",
            "flex_flow": null,
            "grid_area": null,
            "grid_auto_columns": null,
            "grid_auto_flow": null,
            "grid_auto_rows": null,
            "grid_column": null,
            "grid_gap": null,
            "grid_row": null,
            "grid_template_areas": null,
            "grid_template_columns": null,
            "grid_template_rows": null,
            "height": null,
            "justify_content": null,
            "justify_items": null,
            "left": null,
            "margin": null,
            "max_height": null,
            "max_width": null,
            "min_height": null,
            "min_width": null,
            "object_fit": null,
            "object_position": null,
            "order": null,
            "overflow": null,
            "overflow_x": null,
            "overflow_y": null,
            "padding": null,
            "right": null,
            "top": null,
            "visibility": null,
            "width": null
          }
        },
        "a53b2ec3ff4845dbafd2d3fd3dcf2e54": {
          "model_module": "@jupyter-widgets/controls",
          "model_name": "ProgressStyleModel",
          "model_module_version": "1.5.0",
          "state": {
            "_model_module": "@jupyter-widgets/controls",
            "_model_module_version": "1.5.0",
            "_model_name": "ProgressStyleModel",
            "_view_count": null,
            "_view_module": "@jupyter-widgets/base",
            "_view_module_version": "1.2.0",
            "_view_name": "StyleView",
            "bar_color": null,
            "description_width": ""
          }
        },
        "1e0d90845bba460880881d4bfba6005e": {
          "model_module": "@jupyter-widgets/base",
          "model_name": "LayoutModel",
          "model_module_version": "1.2.0",
          "state": {
            "_model_module": "@jupyter-widgets/base",
            "_model_module_version": "1.2.0",
            "_model_name": "LayoutModel",
            "_view_count": null,
            "_view_module": "@jupyter-widgets/base",
            "_view_module_version": "1.2.0",
            "_view_name": "LayoutView",
            "align_content": null,
            "align_items": null,
            "align_self": null,
            "border": null,
            "bottom": null,
            "display": null,
            "flex": null,
            "flex_flow": null,
            "grid_area": null,
            "grid_auto_columns": null,
            "grid_auto_flow": null,
            "grid_auto_rows": null,
            "grid_column": null,
            "grid_gap": null,
            "grid_row": null,
            "grid_template_areas": null,
            "grid_template_columns": null,
            "grid_template_rows": null,
            "height": null,
            "justify_content": null,
            "justify_items": null,
            "left": null,
            "margin": null,
            "max_height": null,
            "max_width": null,
            "min_height": null,
            "min_width": null,
            "object_fit": null,
            "object_position": null,
            "order": null,
            "overflow": null,
            "overflow_x": null,
            "overflow_y": null,
            "padding": null,
            "right": null,
            "top": null,
            "visibility": null,
            "width": null
          }
        },
        "3407eb64750947fb8f06468d5b6c05a0": {
          "model_module": "@jupyter-widgets/controls",
          "model_name": "DescriptionStyleModel",
          "model_module_version": "1.5.0",
          "state": {
            "_model_module": "@jupyter-widgets/controls",
            "_model_module_version": "1.5.0",
            "_model_name": "DescriptionStyleModel",
            "_view_count": null,
            "_view_module": "@jupyter-widgets/base",
            "_view_module_version": "1.2.0",
            "_view_name": "StyleView",
            "description_width": ""
          }
        }
      }
    }
  },
  "cells": [
    {
      "cell_type": "markdown",
      "metadata": {
        "id": "view-in-github",
        "colab_type": "text"
      },
      "source": [
        "<a href=\"https://colab.research.google.com/github/benwynia/CNNs/blob/main/MNIST_CNN.ipynb\" target=\"_parent\"><img src=\"https://colab.research.google.com/assets/colab-badge.svg\" alt=\"Open In Colab\"/></a>"
      ]
    },
    {
      "cell_type": "markdown",
      "source": [
        "## **Simple Generative Adversarial Network**"
      ],
      "metadata": {
        "id": "XrzfX1qhOfY4"
      }
    },
    {
      "cell_type": "markdown",
      "source": [
        "MNIST is a dataset of handwritten digits that is commonly used for training and testing in the field of machine learning, particularly in image recognition tasks. Here are some key details about the MNIST dataset:\n",
        "\n",
        "**Contents:** It consists of 70,000 images of handwritten digits from '0' to '9'. Each image is a 28x28 pixel grayscale image where each pixel represents an intensity value.\n",
        "\n",
        "**Purpose:** MNIST is widely used as a benchmark dataset for algorithms designed to recognize visual patterns. It serves as a testbed to evaluate the performance of different machine learning models, especially those in the field of computer vision.\n",
        "\n",
        "**Usage:** The dataset is typically split into a training set of 60,000 images and a test set of 10,000 images. This allows machine learning practitioners to train models on the larger set and then test their performance on the separate set to gauge how well the model might perform on data it hasn't seen before.\n",
        "\n",
        "**Significance:** Because of its simplicity and the extensive use in the machine learning community, MNIST is often referred to as the \"Hello World\" of machine learning for image recognition. It provides a straightforward dataset that can be used to illustrate the basic techniques in machine learning and computer vision.\n"
      ],
      "metadata": {
        "id": "IS-EoHQGQST3"
      }
    },
    {
      "cell_type": "code",
      "source": [
        "#!pip install pytorch-lightning"
      ],
      "metadata": {
        "id": "3VuDm39aOrR9"
      },
      "execution_count": 5,
      "outputs": []
    },
    {
      "cell_type": "code",
      "source": [
        "# Import libraries\n",
        "\n",
        "import os\n",
        "\n",
        "import torch\n",
        "import torchvision\n",
        "import torch.nn as nn\n",
        "import torch.optim as optim\n",
        "import torch.nn.functional as F\n",
        "import torchvision.datasets as datasets\n",
        "import torchvision.transforms as transforms\n",
        "from torch.utils.data import DataLoader, random_split\n",
        "from torchvision.datasets import MNIST\n",
        "\n",
        "import matplotlib.pyplot as plt\n",
        "\n",
        "import pytorch_lightning as pl\n",
        "\n",
        "\n",
        "random_seed = 42\n",
        "torch.manual_seed(random_seed)\n",
        "\n",
        "BATCH_SIZE=128\n",
        "AVAIL_GPUS = min(1, torch.cuda.device_count())\n",
        "NUM_WORKERS=int(os.cpu_count() / 2)"
      ],
      "metadata": {
        "id": "QlDhGHjNPXri"
      },
      "execution_count": 6,
      "outputs": []
    },
    {
      "cell_type": "markdown",
      "source": [
        "**Create a Class for managing MNIST data**"
      ],
      "metadata": {
        "id": "druOFsPRP0oc"
      }
    },
    {
      "cell_type": "code",
      "source": [
        "class MNISTDataModule(pl.LightningDataModule):\n",
        "    def __init__(self, data_dir=\"./data\", batch_size=32, num_workers=4):\n",
        "        \"\"\"\n",
        "        Initialize the data module.\n",
        "\n",
        "        Parameters:\n",
        "        - data_dir (str): Directory to store the MNIST data.\n",
        "        - batch_size (int): How many samples per batch to load.\n",
        "        - num_workers (int): How many subprocesses to use for data loading.\n",
        "        \"\"\"\n",
        "        super().__init__()\n",
        "        self.data_dir = data_dir\n",
        "        self.batch_size = batch_size\n",
        "        self.num_workers = num_workers\n",
        "\n",
        "        # Define transformations to apply to each data item\n",
        "        self.transform = transforms.Compose([\n",
        "            transforms.ToTensor(),  # Convert images to PyTorch tensors\n",
        "            transforms.Normalize((0.1307,), (0.3081,)),  # Normalize images using mean and std dev\n",
        "        ])\n",
        "\n",
        "    def prepare_data(self):\n",
        "        \"\"\"\n",
        "        Download the MNIST dataset if it's not already available.\n",
        "        \"\"\"\n",
        "        MNIST(self.data_dir, train=True, download=True)\n",
        "        MNIST(self.data_dir, train=False, download=True)\n",
        "\n",
        "    def setup(self, stage=None):\n",
        "        \"\"\"\n",
        "        Prepare datasets for training, validation, and testing phases.\n",
        "\n",
        "        Parameters:\n",
        "        - stage (str): Current stage (fit or test)\n",
        "        \"\"\"\n",
        "        if stage == \"fit\" or stage is None:\n",
        "            mnist_full = MNIST(self.data_dir, train=True, transform=self.transform)\n",
        "            self.mnist_train, self.mnist_val = random_split(mnist_full, [55000, 5000])\n",
        "        if stage == \"test\" or stage is None:\n",
        "            self.mnist_test = MNIST(self.data_dir, train=False, transform=self.transform)\n",
        "\n",
        "    def train_dataloader(self):\n",
        "        \"\"\"\n",
        "        Return the DataLoader for training data.\n",
        "        \"\"\"\n",
        "        return DataLoader(self.mnist_train, batch_size=self.batch_size, num_workers=self.num_workers)\n",
        "\n",
        "    def val_dataloader(self):\n",
        "        \"\"\"\n",
        "        Return the DataLoader for validation data.\n",
        "        \"\"\"\n",
        "        return DataLoader(self.mnist_val, batch_size=self.batch_size, num_workers=self.num_workers)\n",
        "\n",
        "    def test_dataloader(self):\n",
        "        \"\"\"\n",
        "        Return the DataLoader for testing data.\n",
        "        \"\"\"\n",
        "        return DataLoader(self.mnist_test, batch_size=self.batch_size, num_workers=self.num_workers)"
      ],
      "metadata": {
        "id": "xI_23OrVPrfr"
      },
      "execution_count": 7,
      "outputs": []
    },
    {
      "cell_type": "markdown",
      "source": [
        "# Discriminator Code"
      ],
      "metadata": {
        "id": "HnpV2RXXQqZX"
      }
    },
    {
      "cell_type": "code",
      "source": [],
      "metadata": {
        "id": "VMU0vuVDQtkE"
      },
      "execution_count": 7,
      "outputs": []
    },
    {
      "cell_type": "markdown",
      "source": [
        "The Discriminator class defined in the Python code is an integral component of a neural network, specifically designed for determining whether given input images are real or fake.\n",
        "\n",
        "Here’s a breakdown of how this discriminator operates:\n",
        "\n",
        "**Initialization:** The discriminator is built upon a simple Convolutional Neural Network (CNN) architecture. Initially, it sets up convolutional layers and dropout layers:\n",
        "\n",
        "conv1 and conv2 are convolutional layers that help the model in understanding and capturing the spatial hierarchies in images by filtering the input images with learned kernels.\n",
        "conv2_drop is a dropout layer applied after the second convolutional layer, which randomly zeros some of the elements of the input tensor with a certain probability during training. This prevents overfitting by ensuring that the network does not rely too much on any particular set of features.\n",
        "Forward Pass: The forward method defines how the input data (x) flows through the network:\n",
        "\n",
        "Input data is first passed through conv1, then through a ReLU activation function, and pooled using max pooling to reduce spatial dimensions.\n",
        "The output then goes through the second convolutional layer (conv2), another ReLU activation, and another max pooling step. After this, it is passed through the dropout layer (conv2_drop) to randomly disable some neurons, enhancing the generalization capabilities of the model.\n",
        "The data, which is still in a matrix form, needs to be flattened into a vector before it can be fed into fully connected layers. This flattening is done next.\n",
        "The flattened data is processed through two fully connected layers (fc1 and fc2) with ReLU activation and a dropout applied between them to further mitigate the risk of overfitting.\n",
        "The final layer outputs a single value that represents the probability of the input image being real or fake. This value is passed through a sigmoid function, which squashes the output between 0 and 1, making it easier to classify the image as real (closer to 1) or fake (closer to 0).\n",
        "Overall, the Discriminator uses a combination of convolutional layers for feature extraction and fully connected layers for classification, leveraging dropout for robustness against overfitting, thus making it effective in distinguishing between authentic and counterfeit images."
      ],
      "metadata": {
        "id": "5cXbLKrgRDjD"
      }
    },
    {
      "cell_type": "code",
      "source": [
        "\n",
        "class Discriminator(nn.Module):\n",
        "    def __init__(self):\n",
        "        super().__init__()\n",
        "        self.conv1 = nn.Conv2d(1, 10, kernel_size=5)\n",
        "        self.conv2 = nn.Conv2d(10, 20, kernel_size=5)\n",
        "        self.conv2_drop = nn.Dropout2d()\n",
        "        self.fc1 = nn.Linear(320, 50)\n",
        "        self.fc2 = nn.Linear(50, 1)\n",
        "\n",
        "    def forward(self, x):\n",
        "        x = F.relu(F.max_pool2d(self.conv1(x), 2))\n",
        "        x = F.relu(F.max_pool2d(self.conv2_drop(self.conv2(x)), 2))\n",
        "        x = x.view(-1, 320)\n",
        "        x = F.relu(self.fc1(x))\n",
        "        x = F.dropout(x, training=self.training)\n",
        "        x = self.fc2(x)\n",
        "        return torch.sigmoid(x)"
      ],
      "metadata": {
        "id": "J8AEtRhCQuwW"
      },
      "execution_count": 8,
      "outputs": []
    },
    {
      "cell_type": "markdown",
      "source": [
        "# Generator"
      ],
      "metadata": {
        "id": "zKtJ_AysSADp"
      }
    },
    {
      "cell_type": "markdown",
      "source": [
        "### 1. __init__ - Initialization\n",
        "This function initializes the Generator's architecture:\n",
        "\n",
        "latent_dim: The dimensionality of the random noise vector that serves as input.\n",
        "Layers:\n",
        "- **lin1:** A linear layer that transforms the input noise vector into a format suitable for convolutional operations, starting the process to reshape it into a 2D image.\n",
        "- **ct1 and ct2:** Convolutional transpose layers (also known as deconvolutional layers) that gradually upscale the input while adding more details, helping the network learn how to construct higher-resolution features.\n",
        "- **conv:** A convolutional layer that fine-tunes the details and adjusts the dimensions to produce the final output image.\n",
        "\n",
        "### 2. forward - Forward Pass\n",
        "Defines how the input data (random noise) flows through the generator:\n",
        "\n",
        "- **Input Transformation:** The input noise is first processed by lin1 and activated using a ReLU function to introduce non-linearity.\n",
        "- **Reshaping:** After activation, the output is reshaped to match the dimensional requirements of subsequent convolutional transpose layers. It's reshaped into a batch of images with 64 feature maps of 7x7 pixels.\n",
        "- **Upscaling and Feature Learning:**\n",
        "**ct1: **The first upscaling step enlarges the feature maps to 16x16 pixels, doubling the size and halving the depth to 32 feature maps, adding finer details.\n",
        "**ct2:** Continues to upscale to an even larger size of 34x34 pixels, further reducing the depth to 16 feature maps. Each step involves a ReLU activation to maintain non-linearity.\n",
        "**Final Convolution:** The output from ct2 is then passed through a final convolutional layer that adjusts the final output size to 28x28 pixels and reduces the depth to a single feature map, representing the grayscale image.\n",
        "\n",
        "### Summary\n",
        "The Generator class acts as an \"artist\" learning to create realistic images from abstract input (noise). Through a series of transformations, it builds complexity from simplicity. This process involves expanding and reshaping the input, adding details through upscaling, and finalizing the image to match the expected format. Each layer and function within the generator strategically contributes to the creation of a believable image from randomized data, a core component of GAN's functionality."
      ],
      "metadata": {
        "id": "A-ZNDDkSSHsI"
      }
    },
    {
      "cell_type": "code",
      "source": [
        "class Generator(nn.Module):\n",
        "    def __init__(self, latent_dim):\n",
        "        super().__init__()\n",
        "        self.lin1 = nn.Linear(latent_dim, 7*7*64)  # [n, 256, 7, 7]\n",
        "        self.ct1 = nn.ConvTranspose2d(64, 32, 4, stride=2) # [n, 64, 16, 16]\n",
        "        self.ct2 = nn.ConvTranspose2d(32, 16, 4, stride=2) # [n, 16, 34, 34]\n",
        "        self.conv = nn.Conv2d(16, 1, kernel_size=7)  # [n, 1, 28, 28]\n",
        "\n",
        "\n",
        "    def forward(self, x):\n",
        "        x = self.lin1(x)\n",
        "        x = F.relu(x)\n",
        "        x = x.view(-1, 64, 7, 7)  #256\n",
        "        x = self.ct1(x)\n",
        "        x = F.relu(x)\n",
        "        x = self.ct2(x)\n",
        "        x = F.relu(x)\n",
        "        return self.conv(x)"
      ],
      "metadata": {
        "id": "NP0C04vQRyVy"
      },
      "execution_count": 9,
      "outputs": []
    },
    {
      "cell_type": "markdown",
      "source": [
        "# GAN"
      ],
      "metadata": {
        "id": "Q-CFCdZhTG77"
      }
    },
    {
      "cell_type": "markdown",
      "source": [
        "### 1. __init__ - Initialization\n",
        "This function initializes the GAN model. Parameters include:\n",
        "\n",
        "latent_dim: The dimensionality of the input noise vector fed into the generator.\n",
        "lr: Learning rate for the optimizer.\n",
        "b1, b2: Coefficients used for computing running averages of gradient and its square in Adam optimizer, influencing the momentum.\n",
        "The function sets up:\n",
        "\n",
        "A generator to create fake images from noise.\n",
        "A discriminator to differentiate between real and fake images.\n",
        "validation_z: A fixed batch of random noise for validating the generator's output.\n",
        "Disables PyTorch Lightning’s automatic optimization to manually handle backpropagation.\n",
        "\n",
        "### 2. forward - Forward Pass\n",
        "Allows the model to generate an output directly from an input noise vector z, using the generator part of the GAN. This function is typically used for inference.\n",
        "\n",
        "### 3. adversarial_loss - Loss Calculation\n",
        "Computes the binary cross-entropy loss, which is used to measure how well the generator fools the discriminator and how well the discriminator distinguishes real images from fake ones. y_hat is the predicted probability by the discriminator, and y is the true label (real or fake).\n",
        "\n",
        "### 4. training_step - Training Logic\n",
        "Defines the core training logic for one batch of data:\n",
        "\n",
        "- **Noise Sampling: **Generate a noise batch z from a normal distribution, matching the batch size of real images.\n",
        "- **Generator Training:** Generate fake images using noise z, calculate loss using discriminator's output, and update generator's weights.\n",
        "- **Discriminator Training:** Train the discriminator twice, once with real images and once with fake images produced by the generator. Calculate the loss for both and take their average to update the discriminator's weights.\n",
        "\n",
        "### 5. configure_optimizers - Setup Optimizers\n",
        "Configures separate optimizers for the generator and discriminator, both using the Adam optimization algorithm with specified learning rates and beta coefficients.\n",
        "\n",
        "### 6. plot_imgs - Plotting Validation Images\n",
        "Generates and plots images using the fixed noise vector validation_z. This function is typically called at the end of an epoch to visualize the progress of the generator in creating realistic images.\n",
        "\n",
        "### 7. on_epoch_end - Epoch Cleanup\n",
        "A callback function that is triggered at the end of each epoch. It calls plot_imgs to visualize the current capabilities of the generator."
      ],
      "metadata": {
        "id": "c2lFUjUgTJQp"
      }
    },
    {
      "cell_type": "code",
      "source": [
        "class GAN(pl.LightningModule):\n",
        "    def __init__(self, latent_dim=100, lr=0.0002, b1: float = 0.5, b2: float = 0.999):\n",
        "        super().__init__()\n",
        "        self.save_hyperparameters()\n",
        "        self.generator = Generator(latent_dim=self.hparams.latent_dim)\n",
        "        self.discriminator = Discriminator()\n",
        "\n",
        "        self.validation_z = torch.randn(6, self.hparams.latent_dim)\n",
        "\n",
        "        self.automatic_optimization = False\n",
        "\n",
        "    def forward(self, z):\n",
        "        return self.generator(z)\n",
        "\n",
        "    def adversarial_loss(self, y_hat, y):\n",
        "        return F.binary_cross_entropy(y_hat, y)\n",
        "\n",
        "    def training_step(self, batch):\n",
        "        imgs, _ = batch\n",
        "\n",
        "        opt_g, opt_d = self.optimizers()\n",
        "\n",
        "        # sample noise\n",
        "        z = torch.randn(imgs.shape[0], self.hparams.latent_dim)\n",
        "        z = z.type_as(imgs)\n",
        "\n",
        "        # Train generator\n",
        "        # ground truth result (ie: all fake)\n",
        "        # put on GPU because we created this tensor inside training_loop\n",
        "        valid = torch.ones(imgs.size(0), 1)\n",
        "        valid = valid.type_as(imgs)\n",
        "\n",
        "        self.toggle_optimizer(opt_g)\n",
        "        # adversarial loss is binary cross-entropy\n",
        "        g_loss = self.adversarial_loss(self.discriminator(self(z)), valid)\n",
        "        opt_g.zero_grad()\n",
        "        self.manual_backward(g_loss)\n",
        "        opt_g.step()\n",
        "        self.untoggle_optimizer(opt_g)\n",
        "\n",
        "        # Train discriminator\n",
        "        # Measure discriminator's ability to classify real from generated samples\n",
        "        # how well can it label as real?\n",
        "        valid = torch.ones(imgs.size(0), 1)\n",
        "        valid = valid.type_as(imgs)\n",
        "\n",
        "        self.toggle_optimizer(opt_d)\n",
        "        real_loss = self.adversarial_loss(self.discriminator(imgs), valid)\n",
        "\n",
        "        # how well can it label as fake?\n",
        "        fake = torch.zeros(imgs.size(0), 1)\n",
        "        fake = fake.type_as(imgs)\n",
        "\n",
        "        fake_loss = self.adversarial_loss(self.discriminator(self(z).detach()), fake)\n",
        "\n",
        "        # discriminator loss is the average of these\n",
        "        d_loss = (real_loss + fake_loss) / 2\n",
        "\n",
        "        opt_d.zero_grad()\n",
        "        self.manual_backward(d_loss)\n",
        "        opt_d.step()\n",
        "        self.untoggle_optimizer(opt_d)\n",
        "\n",
        "        self.log_dict({\"d_loss\": d_loss, \"g_loss\": g_loss})\n",
        "\n",
        "    def configure_optimizers(self):\n",
        "        lr = self.hparams.lr\n",
        "        b1 = self.hparams.b1\n",
        "        b2 = self.hparams.b2\n",
        "\n",
        "        opt_g = torch.optim.Adam(self.generator.parameters(), lr=lr, betas=(b1, b2))\n",
        "        opt_d = torch.optim.Adam(self.discriminator.parameters(), lr=lr, betas=(b1, b2))\n",
        "        return opt_g, opt_d\n",
        "\n",
        "    def plot_imgs(self):\n",
        "      z = self.validation_z.type_as(self.generator.lin1.weight)\n",
        "      sample_imgs = self(z).cpu()\n",
        "      print('epoch', self.current_epoch)\n",
        "      fig = plt.figure()\n",
        "      for i in range(sample_imgs.size(0)):\n",
        "          plt.subplot(2, 3, i+1)\n",
        "          plt.tight_layout()\n",
        "          plt.imshow(sample_imgs.detach()[i, 0,:,:], cmap='gray_r', interpolation='none')\n",
        "          plt.title('Generated Data')\n",
        "          plt.xticks([])\n",
        "          plt.yticks([])\n",
        "          plt.axis('off')\n",
        "      plt.show()\n",
        "\n",
        "    def on_epoch_end(self):\n",
        "        self.plot_imgs()\n"
      ],
      "metadata": {
        "id": "tdjfqxXlTIE8"
      },
      "execution_count": 29,
      "outputs": []
    },
    {
      "cell_type": "code",
      "source": [
        "dm = MNISTDataModule()\n",
        "model = GAN()"
      ],
      "metadata": {
        "id": "rEWoNZ2GZ6Nj"
      },
      "execution_count": 30,
      "outputs": []
    },
    {
      "cell_type": "code",
      "source": [
        "model.plot_imgs()"
      ],
      "metadata": {
        "colab": {
          "base_uri": "https://localhost:8080/",
          "height": 455
        },
        "id": "c9G1cyx8aF37",
        "outputId": "21220ec4-d38c-4215-a737-b2103f833c3b"
      },
      "execution_count": 31,
      "outputs": [
        {
          "output_type": "stream",
          "name": "stdout",
          "text": [
            "epoch 0\n"
          ]
        },
        {
          "output_type": "display_data",
          "data": {
            "text/plain": [
              "<Figure size 640x480 with 6 Axes>"
            ],
            "image/png": "[encoded data removed]"
          },
          "metadata": {}
        }
      ]
    },
    {
      "cell_type": "code",
      "source": [
        "trainer = pl.Trainer(accelerator=\"cpu\", max_epochs=20) # Replace 'gpus' with 'accelerator' and 'devices'\n",
        "trainer.fit(model, dm)"
      ],
      "metadata": {
        "colab": {
          "base_uri": "https://localhost:8080/",
          "height": 399,
          "referenced_widgets": [
            "0f3b869e1cc741a79e7a8b3dbc7bda1f",
            "b9396eca7c2246a987835abf91cca2e7",
            "ecbb08c081d44a048c8027344f32d45f",
            "47578214a9f54928ba2fc84eea69d904",
            "fb63d1c94128476c8c57727c9ab59d60",
            "4d7bdf57e2644c8aa4b3338069477e89",
            "a7f2be0b95f7433da193f39101aebc58",
            "960165752caa4f90b369ddfc03285b94",
            "a53b2ec3ff4845dbafd2d3fd3dcf2e54",
            "1e0d90845bba460880881d4bfba6005e",
            "3407eb64750947fb8f06468d5b6c05a0"
          ]
        },
        "id": "2m8HDRoean6Y",
        "outputId": "01434f9c-dae5-4c82-f399-574803780199"
      },
      "execution_count": 32,
      "outputs": [
        {
          "output_type": "stream",
          "name": "stderr",
          "text": [
            "INFO:pytorch_lightning.utilities.rank_zero:GPU available: False, used: False\n",
            "INFO:pytorch_lightning.utilities.rank_zero:TPU available: False, using: 0 TPU cores\n",
            "INFO:pytorch_lightning.utilities.rank_zero:HPU available: False, using: 0 HPUs\n",
            "/usr/local/lib/python3.11/dist-packages/pytorch_lightning/trainer/configuration_validator.py:68: You passed in a `val_dataloader` but have no `validation_step`. Skipping val loop.\n",
            "INFO:pytorch_lightning.callbacks.model_summary:\n",
            "  | Name          | Type          | Params | Mode \n",
            "--------------------------------------------------------\n",
            "0 | generator     | Generator     | 358 K  | train\n",
            "1 | discriminator | Discriminator | 21.4 K | train\n",
            "--------------------------------------------------------\n",
            "379 K     Trainable params\n",
            "0         Non-trainable params\n",
            "379 K     Total params\n",
            "1.520     Total estimated model params size (MB)\n",
            "11        Modules in train mode\n",
            "0         Modules in eval mode\n",
            "/usr/local/lib/python3.11/dist-packages/torch/utils/data/dataloader.py:617: UserWarning: This DataLoader will create 4 worker processes in total. Our suggested max number of worker in current system is 2, which is smaller than what this DataLoader is going to create. Please be aware that excessive worker creation might get DataLoader running slow or even freeze, lower the worker number to avoid potential slowness/freeze if necessary.\n",
            "  warnings.warn(\n"
          ]
        },
        {
          "output_type": "display_data",
          "data": {
            "text/plain": [
              "Training: |          | 0/? [00:00<?, ?it/s]"
            ],
            "application/vnd.jupyter.widget-view+json": {
              "version_major": 2,
              "version_minor": 0,
              "model_id": "0f3b869e1cc741a79e7a8b3dbc7bda1f"
            }
          },
          "metadata": {}
        },
        {
          "output_type": "stream",
          "name": "stderr",
          "text": [
            "INFO:pytorch_lightning.utilities.rank_zero:`Trainer.fit` stopped: `max_epochs=20` reached.\n"
          ]
        }
      ]
    },
    {
      "cell_type": "code",
      "source": [
        "model.plot_imgs()"
      ],
      "metadata": {
        "colab": {
          "base_uri": "https://localhost:8080/",
          "height": 455
        },
        "id": "HgfcKj8HpHGK",
        "outputId": "1adc123c-85c2-406b-fdb4-77dff1e24250"
      },
      "execution_count": 34,
      "outputs": [
        {
          "output_type": "stream",
          "name": "stdout",
          "text": [
            "epoch 20\n"
          ]
        },
        {
          "output_type": "display_data",
          "data": {
            "text/plain": [
              "<Figure size 640x480 with 6 Axes>"
            ],
            "image/png": "[encoded data removed]"
          },
          "metadata": {}
        }
      ]
    },
    {
      "cell_type": "markdown",
      "source": [],
      "metadata": {
        "id": "L-hwwviwTeG4"
      }
    }
  ]
}